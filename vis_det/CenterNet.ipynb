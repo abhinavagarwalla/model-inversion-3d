{
 "cells": [
  {
   "cell_type": "code",
   "execution_count": 1,
   "metadata": {},
   "outputs": [],
   "source": [
    "%load_ext autoreload\n",
    "%autoreload 2"
   ]
  },
  {
   "cell_type": "code",
   "execution_count": 31,
   "metadata": {},
   "outputs": [],
   "source": [
    "## Convert kitti_to_coco using https://github.com/xingyizhou/CenterNet/blob/master/readme/DATA.md#kitti\n",
    "## symlink the directory of kitti to datapath \n",
    "## ln -sr <kitti path> /home/paritosh/Desktop/SEM2/16824/code/vlr-project/vis_det/vis_det/data"
   ]
  },
  {
   "cell_type": "code",
   "execution_count": 2,
   "metadata": {},
   "outputs": [],
   "source": [
    "import os\n",
    "import json\n",
    "import cv2\n",
    "import numpy as np\n",
    "import time\n",
    "from progress.bar import Bar\n",
    "import torch\n",
    "\n",
    "from vis_det.model_pool.centernet.external.nms import soft_nms\n",
    "from vis_det.model_pool.centernet.opts import opts\n",
    "from vis_det.model_pool.centernet.datasets.dataset_factory import dataset_factory\n",
    "from vis_det.model_pool.centernet.detectors.detector_factory import detector_factory"
   ]
  },
  {
   "cell_type": "code",
   "execution_count": 23,
   "metadata": {},
   "outputs": [
    {
     "name": "stdout",
     "output_type": "stream",
     "text": [
      "Fix size testing.\n",
      "training chunk_sizes: [32]\n",
      "The output will be saved to  /home/paritosh/Desktop/SEM2/16824/code/vlr-project/vis_det/vis_det/model_pool/centernet/../../exp/ddd/default\n",
      "heads {'hm': 3, 'dep': 1, 'rot': 8, 'dim': 3, 'wh': 2, 'reg': 2}\n"
     ]
    }
   ],
   "source": [
    "opt = opts().parse()\n",
    "Dataset = dataset_factory[opt.dataset]\n",
    "opt = opts().update_dataset_info_and_set_heads(opt, Dataset)\n",
    "Detector = detector_factory[opt.task]\n",
    "split = 'val' if not opt.trainval else 'test'"
   ]
  },
  {
   "cell_type": "code",
   "execution_count": 26,
   "metadata": {},
   "outputs": [
    {
     "name": "stdout",
     "output_type": "stream",
     "text": [
      "==> initializing kitti 3dop, val data.\n",
      "loading annotations into memory...\n",
      "Done (t=0.22s)\n",
      "creating index...\n",
      "index created!\n",
      "Loaded val 3769 samples\n",
      "Creating model...\n",
      "loaded /data/datasets/paritosh/16824/centernet/ddd_3dop.pth, epoch 70\n"
     ]
    }
   ],
   "source": [
    "dataset = Dataset(opt, split)\n",
    "detector = Detector(opt)"
   ]
  },
  {
   "cell_type": "code",
   "execution_count": 27,
   "metadata": {},
   "outputs": [],
   "source": [
    "num_iters = len(dataset)"
   ]
  },
  {
   "cell_type": "code",
   "execution_count": 28,
   "metadata": {},
   "outputs": [],
   "source": [
    "ind = 0 # len(num_iters)\n",
    "img_id = dataset.images[ind]\n",
    "img_info = dataset.coco.loadImgs(ids=[img_id])[0]\n",
    "img_path = os.path.join(dataset.img_dir, img_info['file_name'])"
   ]
  },
  {
   "cell_type": "code",
   "execution_count": 29,
   "metadata": {},
   "outputs": [],
   "source": [
    "ret = detector.run(img_path, img_info['calib'])"
   ]
  },
  {
   "cell_type": "code",
   "execution_count": 30,
   "metadata": {},
   "outputs": [
    {
     "data": {
      "text/plain": [
       "{'results': {1: array([], shape=(0, 13), dtype=float32),\n",
       "  2: array([[  1.8421338 , 390.29257   , 180.99689   , 423.13687   ,\n",
       "          201.73993   ,   1.4654806 ,   1.62472   ,   4.069733  ,\n",
       "          -16.192814  ,   2.2056146 ,  57.38376   ,   1.5680792 ,\n",
       "            0.52656925]], dtype=float32),\n",
       "  3: array([], shape=(0, 13), dtype=float32)},\n",
       " 'tot': 0.5124986171722412,\n",
       " 'load': 0.007492542266845703,\n",
       " 'pre': 0.030159950256347656,\n",
       " 'net': 0.46918272972106934,\n",
       " 'dec': 0.0015952587127685547,\n",
       " 'post': 0.004035234451293945,\n",
       " 'merge': 3.075599670410156e-05}"
      ]
     },
     "execution_count": 30,
     "metadata": {},
     "output_type": "execute_result"
    }
   ],
   "source": [
    "ret"
   ]
  },
  {
   "cell_type": "code",
   "execution_count": null,
   "metadata": {},
   "outputs": [],
   "source": []
  }
 ],
 "metadata": {
  "kernelspec": {
   "display_name": "detectron2",
   "language": "python",
   "name": "detectron2"
  },
  "language_info": {
   "codemirror_mode": {
    "name": "ipython",
    "version": 3
   },
   "file_extension": ".py",
   "mimetype": "text/x-python",
   "name": "python",
   "nbconvert_exporter": "python",
   "pygments_lexer": "ipython3",
   "version": "3.9.7"
  }
 },
 "nbformat": 4,
 "nbformat_minor": 4
}
