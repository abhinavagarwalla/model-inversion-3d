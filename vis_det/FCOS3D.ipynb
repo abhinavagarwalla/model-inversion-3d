{
 "cells": [
  {
   "cell_type": "code",
   "execution_count": 1,
   "id": "4a4229c5",
   "metadata": {},
   "outputs": [],
   "source": [
    "%load_ext autoreload\n",
    "%autoreload 2"
   ]
  },
  {
   "cell_type": "code",
   "execution_count": 2,
   "id": "83902285",
   "metadata": {},
   "outputs": [],
   "source": [
    "\n",
    "import mmdet3d\n",
    "from mmdet3d.models import build_model\n",
    "from mmdet3d.datasets import build_dataloader, build_dataset\n",
    "from mmcv import Config, DictAction\n",
    "from mmcv.runner import load_checkpoint\n",
    "import torch\n",
    "from mmcv.parallel import MMDataParallel"
   ]
  },
  {
   "cell_type": "code",
   "execution_count": 3,
   "id": "37795b9b",
   "metadata": {
    "tags": []
   },
   "outputs": [],
   "source": [
    "cfg_path = \"/project_data/ramanan/shubham/results/training/train_fcos3d_80_nov2/fcos3d_r101_caffe_fpn_gn-head_dcn_2x8_1x_nus-mono3d.py\"\n",
    "cfg = Config.fromfile(cfg_path)\n"
   ]
  },
  {
   "cell_type": "code",
   "execution_count": 4,
   "id": "dfb486ad",
   "metadata": {},
   "outputs": [],
   "source": [
    "ckpt_path = \"/project_data/ramanan/shubham/results/training/train_fcos3d_80_nov2/latest.pth\""
   ]
  },
  {
   "cell_type": "code",
   "execution_count": 5,
   "id": "b5e5fd0e",
   "metadata": {},
   "outputs": [
    {
     "data": {
      "text/plain": [
       "{'type': 'NuScenesMonoDataset',\n",
       " 'data_root': '/project_data/ramanan/shubham/nuscenes/',\n",
       " 'ann_file': '/project_data/ramanan/shubham/nuscenes/nuscenes_infos_val_mono3d.coco.json',\n",
       " 'img_prefix': '/project_data/ramanan/shubham/nuscenes/',\n",
       " 'classes': ['car',\n",
       "  'truck',\n",
       "  'trailer',\n",
       "  'bus',\n",
       "  'construction_vehicle',\n",
       "  'bicycle',\n",
       "  'motorcycle',\n",
       "  'pedestrian',\n",
       "  'traffic_cone',\n",
       "  'barrier'],\n",
       " 'pipeline': [{'type': 'LoadImageFromFileMono3D'},\n",
       "  {'type': 'MultiScaleFlipAug',\n",
       "   'scale_factor': 1.0,\n",
       "   'flip': False,\n",
       "   'transforms': [{'type': 'RandomFlip3D'},\n",
       "    {'type': 'Normalize',\n",
       "     'mean': [103.53, 116.28, 123.675],\n",
       "     'std': [1.0, 1.0, 1.0],\n",
       "     'to_rgb': False},\n",
       "    {'type': 'Pad', 'size_divisor': 32},\n",
       "    {'type': 'DefaultFormatBundle3D',\n",
       "     'class_names': ['car',\n",
       "      'truck',\n",
       "      'trailer',\n",
       "      'bus',\n",
       "      'construction_vehicle',\n",
       "      'bicycle',\n",
       "      'motorcycle',\n",
       "      'pedestrian',\n",
       "      'traffic_cone',\n",
       "      'barrier'],\n",
       "     'with_label': False},\n",
       "    {'type': 'Collect3D', 'keys': ['img']}]}],\n",
       " 'modality': {'use_lidar': False,\n",
       "  'use_camera': True,\n",
       "  'use_radar': False,\n",
       "  'use_map': False,\n",
       "  'use_external': False},\n",
       " 'test_mode': True,\n",
       " 'box_type_3d': 'Camera'}"
      ]
     },
     "execution_count": 5,
     "metadata": {},
     "output_type": "execute_result"
    }
   ],
   "source": [
    "cfg.data.test"
   ]
  },
  {
   "cell_type": "code",
   "execution_count": 6,
   "id": "d7a2e375",
   "metadata": {},
   "outputs": [],
   "source": [
    "if cfg.get('cudnn_benchmark', False):\n",
    "    torch.backends.cudnn.benchmark = True"
   ]
  },
  {
   "cell_type": "code",
   "execution_count": 7,
   "id": "fa1b07bf",
   "metadata": {},
   "outputs": [],
   "source": [
    "cfg.data.test.test_mode = True\n",
    "samples_per_gpu = cfg.data.test.pop('samples_per_gpu', 1)\n",
    "distributed = False"
   ]
  },
  {
   "cell_type": "code",
   "execution_count": 8,
   "id": "6c185474",
   "metadata": {},
   "outputs": [
    {
     "data": {
      "text/plain": [
       "1"
      ]
     },
     "execution_count": 8,
     "metadata": {},
     "output_type": "execute_result"
    }
   ],
   "source": [
    "samples_per_gpu"
   ]
  },
  {
   "cell_type": "code",
   "execution_count": 9,
   "id": "9c52a252",
   "metadata": {},
   "outputs": [
    {
     "name": "stdout",
     "output_type": "stream",
     "text": [
      "loading annotations into memory...\n",
      "Done (t=5.79s)\n",
      "creating index...\n",
      "index created!\n"
     ]
    }
   ],
   "source": [
    "dataset = build_dataset(cfg.data.test)\n",
    "data_loader = build_dataloader(\n",
    "        dataset,\n",
    "        samples_per_gpu=samples_per_gpu,\n",
    "        workers_per_gpu=cfg.data.workers_per_gpu,\n",
    "        dist=distributed,\n",
    "        shuffle=False)"
   ]
  },
  {
   "cell_type": "code",
   "execution_count": 10,
   "id": "53acbfc3",
   "metadata": {},
   "outputs": [
    {
     "name": "stderr",
     "output_type": "stream",
     "text": [
      "/home/shubham2/miniconda3/lib/python3.8/site-packages/mmdet/models/detectors/single_stage.py:28: UserWarning: DeprecationWarning: pretrained is deprecated, please use \"init_cfg\" instead\n",
      "  warnings.warn('DeprecationWarning: pretrained is deprecated, '\n",
      "/home/shubham2/miniconda3/lib/python3.8/site-packages/mmdet/models/backbones/resnet.py:400: UserWarning: DeprecationWarning: pretrained is deprecated, please use \"init_cfg\" instead\n",
      "  warnings.warn('DeprecationWarning: pretrained is deprecated, '\n"
     ]
    },
    {
     "name": "stdout",
     "output_type": "stream",
     "text": [
      "Use load_from_local loader\n"
     ]
    },
    {
     "name": "stderr",
     "output_type": "stream",
     "text": [
      "2021-11-27 03:21:16,184 - root - INFO - ModulatedDeformConvPack backbone.layer3.0.conv2 is upgraded to version 2.\n",
      "2021-11-27 03:21:16,190 - root - INFO - ModulatedDeformConvPack backbone.layer3.1.conv2 is upgraded to version 2.\n",
      "2021-11-27 03:21:16,194 - root - INFO - ModulatedDeformConvPack backbone.layer3.2.conv2 is upgraded to version 2.\n",
      "2021-11-27 03:21:16,199 - root - INFO - ModulatedDeformConvPack backbone.layer3.3.conv2 is upgraded to version 2.\n",
      "2021-11-27 03:21:16,204 - root - INFO - ModulatedDeformConvPack backbone.layer3.4.conv2 is upgraded to version 2.\n",
      "2021-11-27 03:21:16,208 - root - INFO - ModulatedDeformConvPack backbone.layer3.5.conv2 is upgraded to version 2.\n",
      "2021-11-27 03:21:16,212 - root - INFO - ModulatedDeformConvPack backbone.layer3.6.conv2 is upgraded to version 2.\n",
      "2021-11-27 03:21:16,217 - root - INFO - ModulatedDeformConvPack backbone.layer3.7.conv2 is upgraded to version 2.\n",
      "2021-11-27 03:21:16,221 - root - INFO - ModulatedDeformConvPack backbone.layer3.8.conv2 is upgraded to version 2.\n",
      "2021-11-27 03:21:16,226 - root - INFO - ModulatedDeformConvPack backbone.layer3.9.conv2 is upgraded to version 2.\n",
      "2021-11-27 03:21:16,230 - root - INFO - ModulatedDeformConvPack backbone.layer3.10.conv2 is upgraded to version 2.\n",
      "2021-11-27 03:21:16,234 - root - INFO - ModulatedDeformConvPack backbone.layer3.11.conv2 is upgraded to version 2.\n",
      "2021-11-27 03:21:16,239 - root - INFO - ModulatedDeformConvPack backbone.layer3.12.conv2 is upgraded to version 2.\n",
      "2021-11-27 03:21:16,243 - root - INFO - ModulatedDeformConvPack backbone.layer3.13.conv2 is upgraded to version 2.\n",
      "2021-11-27 03:21:16,247 - root - INFO - ModulatedDeformConvPack backbone.layer3.14.conv2 is upgraded to version 2.\n",
      "2021-11-27 03:21:16,252 - root - INFO - ModulatedDeformConvPack backbone.layer3.15.conv2 is upgraded to version 2.\n",
      "2021-11-27 03:21:16,256 - root - INFO - ModulatedDeformConvPack backbone.layer3.16.conv2 is upgraded to version 2.\n",
      "2021-11-27 03:21:16,260 - root - INFO - ModulatedDeformConvPack backbone.layer3.17.conv2 is upgraded to version 2.\n",
      "2021-11-27 03:21:16,265 - root - INFO - ModulatedDeformConvPack backbone.layer3.18.conv2 is upgraded to version 2.\n",
      "2021-11-27 03:21:16,269 - root - INFO - ModulatedDeformConvPack backbone.layer3.19.conv2 is upgraded to version 2.\n",
      "2021-11-27 03:21:16,273 - root - INFO - ModulatedDeformConvPack backbone.layer3.20.conv2 is upgraded to version 2.\n",
      "2021-11-27 03:21:16,278 - root - INFO - ModulatedDeformConvPack backbone.layer3.21.conv2 is upgraded to version 2.\n",
      "2021-11-27 03:21:16,282 - root - INFO - ModulatedDeformConvPack backbone.layer3.22.conv2 is upgraded to version 2.\n",
      "2021-11-27 03:21:16,286 - root - INFO - ModulatedDeformConvPack backbone.layer4.0.conv2 is upgraded to version 2.\n",
      "2021-11-27 03:21:16,293 - root - INFO - ModulatedDeformConvPack backbone.layer4.1.conv2 is upgraded to version 2.\n",
      "2021-11-27 03:21:16,299 - root - INFO - ModulatedDeformConvPack backbone.layer4.2.conv2 is upgraded to version 2.\n",
      "2021-11-27 03:21:16,310 - root - INFO - ModulatedDeformConvPack bbox_head.cls_convs.1.conv is upgraded to version 2.\n",
      "2021-11-27 03:21:16,314 - root - INFO - ModulatedDeformConvPack bbox_head.reg_convs.1.conv is upgraded to version 2.\n"
     ]
    }
   ],
   "source": [
    "model = build_model(cfg.model, test_cfg=cfg.get('test_cfg'))\n",
    "checkpoint = load_checkpoint(model, ckpt_path, map_location='cpu')"
   ]
  },
  {
   "cell_type": "code",
   "execution_count": 11,
   "id": "a896e0b4",
   "metadata": {},
   "outputs": [],
   "source": [
    "if 'CLASSES' in checkpoint.get('meta', {}):\n",
    "    model.CLASSES = checkpoint['meta']['CLASSES']\n",
    "if 'PALETTE' in checkpoint.get('meta', {}):\n",
    "    model.PALETTE = checkpoint['meta']['PALETTE']"
   ]
  },
  {
   "cell_type": "code",
   "execution_count": 12,
   "id": "c1f78be8",
   "metadata": {},
   "outputs": [],
   "source": [
    "model = MMDataParallel(model, device_ids=[0])\n",
    "model = model.eval()"
   ]
  },
  {
   "cell_type": "code",
   "execution_count": 17,
   "id": "8f8bff5d",
   "metadata": {},
   "outputs": [
    {
     "data": {
      "text/plain": [
       "36114"
      ]
     },
     "execution_count": 17,
     "metadata": {},
     "output_type": "execute_result"
    }
   ],
   "source": [
    "len(data_loader)"
   ]
  },
  {
   "cell_type": "code",
   "execution_count": 13,
   "id": "63ad4b34",
   "metadata": {},
   "outputs": [
    {
     "name": "stdout",
     "output_type": "stream",
     "text": [
      "0 dict_keys(['img_metas', 'img'])\n"
     ]
    },
    {
     "ename": "AssertionError",
     "evalue": "",
     "output_type": "error",
     "traceback": [
      "\u001b[0;31m---------------------------------------------------------------------------\u001b[0m",
      "\u001b[0;31mAssertionError\u001b[0m                            Traceback (most recent call last)",
      "\u001b[0;32m<ipython-input-13-bbffa7ef498f>\u001b[0m in \u001b[0;36m<module>\u001b[0;34m\u001b[0m\n\u001b[1;32m      4\u001b[0m     \u001b[0;32mwith\u001b[0m \u001b[0mtorch\u001b[0m\u001b[0;34m.\u001b[0m\u001b[0mno_grad\u001b[0m\u001b[0;34m(\u001b[0m\u001b[0;34m)\u001b[0m\u001b[0;34m:\u001b[0m\u001b[0;34m\u001b[0m\u001b[0;34m\u001b[0m\u001b[0m\n\u001b[1;32m      5\u001b[0m         \u001b[0mresult\u001b[0m \u001b[0;34m=\u001b[0m \u001b[0mmodel\u001b[0m\u001b[0;34m(\u001b[0m\u001b[0mreturn_loss\u001b[0m\u001b[0;34m=\u001b[0m\u001b[0;32mFalse\u001b[0m\u001b[0;34m,\u001b[0m \u001b[0mrescale\u001b[0m\u001b[0;34m=\u001b[0m\u001b[0;32mTrue\u001b[0m\u001b[0;34m,\u001b[0m \u001b[0;34m**\u001b[0m\u001b[0mdata\u001b[0m\u001b[0;34m)\u001b[0m\u001b[0;34m\u001b[0m\u001b[0;34m\u001b[0m\u001b[0m\n\u001b[0;32m----> 6\u001b[0;31m     \u001b[0;32massert\u001b[0m\u001b[0;34m(\u001b[0m\u001b[0;32mFalse\u001b[0m\u001b[0;34m)\u001b[0m\u001b[0;34m\u001b[0m\u001b[0;34m\u001b[0m\u001b[0m\n\u001b[0m",
      "\u001b[0;31mAssertionError\u001b[0m: "
     ]
    }
   ],
   "source": [
    "for i, data in enumerate(data_loader):\n",
    "    dat = data\n",
    "    print(i,data.keys())\n",
    "    with torch.no_grad():\n",
    "        result = model(return_loss=False, rescale=True, **data)\n",
    "    assert(False)"
   ]
  },
  {
   "cell_type": "code",
   "execution_count": 16,
   "id": "dee695bd",
   "metadata": {},
   "outputs": [
    {
     "data": {
      "text/plain": [
       "[{'img_bbox': {'boxes_3d': CameraInstance3DBoxes(\n",
       "       tensor([[-8.2142e-02,  2.9642e+00,  5.6249e+00,  ...,  1.6000e+00,\n",
       "            -1.2987e-02,  8.1857e-03],\n",
       "           [ 5.7016e-02,  3.0957e+00,  1.4288e+01,  ...,  1.6134e+00,\n",
       "            -6.4106e-03,  8.5495e-02],\n",
       "           [-2.3318e-02,  3.0270e+00,  5.4026e+00,  ...,  1.5558e+00,\n",
       "             2.9350e-02,  4.9544e-02],\n",
       "           ...,\n",
       "           [ 7.6450e+00,  1.4521e+00,  1.7494e+01,  ...,  2.4419e+00,\n",
       "             1.2316e-03, -3.1850e-02],\n",
       "           [ 7.6916e+00,  1.4624e+00,  1.7609e+01,  ...,  2.4586e+00,\n",
       "            -6.0604e-03, -2.2411e-02],\n",
       "           [ 7.8340e+00,  1.4763e+00,  1.7901e+01,  ...,  2.5883e+00,\n",
       "            -4.3785e-03, -6.3289e-03]])),\n",
       "   'scores_3d': tensor([0.3315, 0.2041, 0.1847, 0.1196, 0.1122, 0.1045, 0.0880, 0.0822, 0.0794,\n",
       "           0.0768, 0.0738, 0.0688, 0.0681, 0.0661, 0.0604, 0.0572, 0.0566, 0.0562,\n",
       "           0.0562, 0.0542, 0.0514, 0.0506, 0.0502, 0.0723, 0.0663, 0.0577, 0.0527,\n",
       "           0.0801, 0.0662, 0.0605, 0.0501, 0.2135, 0.1448, 0.1405, 0.1335, 0.1314,\n",
       "           0.1234, 0.1171, 0.1145, 0.1034, 0.1012, 0.0969, 0.0962, 0.0922, 0.0919,\n",
       "           0.0915, 0.0889, 0.0889, 0.0881, 0.0855, 0.0852, 0.0852, 0.0844, 0.0802,\n",
       "           0.0800, 0.0798, 0.0793, 0.0765, 0.0750, 0.0727, 0.0722, 0.0719, 0.0700,\n",
       "           0.0657, 0.0638, 0.0629, 0.0626, 0.0621, 0.0614, 0.0611, 0.0608, 0.0599,\n",
       "           0.0590, 0.0586, 0.0585, 0.0585, 0.0585, 0.0551, 0.0547, 0.0546, 0.0543,\n",
       "           0.0529, 0.0525, 0.0521, 0.0516, 0.0510, 0.0507, 0.0507, 0.0501, 0.2198,\n",
       "           0.1599, 0.1454, 0.1359, 0.1283, 0.1263, 0.1263, 0.1213, 0.1165, 0.1140,\n",
       "           0.1137, 0.1085, 0.0976, 0.0958, 0.0918, 0.0904, 0.0886, 0.0882, 0.0803,\n",
       "           0.0791, 0.0770, 0.0755, 0.0741, 0.0736, 0.0736, 0.0685, 0.0679, 0.0633,\n",
       "           0.0620, 0.0619, 0.0603, 0.0601, 0.0596, 0.0594, 0.0555, 0.0551, 0.0537,\n",
       "           0.0529, 0.0526, 0.0522, 0.0514, 0.0504, 0.0692, 0.0584, 0.0505]),\n",
       "   'labels_3d': tensor([0, 0, 0, 0, 0, 0, 0, 0, 0, 0, 0, 0, 0, 0, 0, 0, 0, 0, 0, 0, 0, 0, 0, 1,\n",
       "           1, 1, 1, 4, 4, 4, 5, 7, 7, 7, 7, 7, 7, 7, 7, 7, 7, 7, 7, 7, 7, 7, 7, 7,\n",
       "           7, 7, 7, 7, 7, 7, 7, 7, 7, 7, 7, 7, 7, 7, 7, 7, 7, 7, 7, 7, 7, 7, 7, 7,\n",
       "           7, 7, 7, 7, 7, 7, 7, 7, 7, 7, 7, 7, 7, 7, 7, 7, 7, 8, 8, 8, 8, 8, 8, 8,\n",
       "           8, 8, 8, 8, 8, 8, 8, 8, 8, 8, 8, 8, 8, 8, 8, 8, 8, 8, 8, 8, 8, 8, 8, 8,\n",
       "           8, 8, 8, 8, 8, 8, 8, 8, 8, 8, 8, 9, 9, 9]),\n",
       "   'attrs_3d': tensor([7, 7, 5, 5, 7, 7, 5, 5, 5, 5, 5, 5, 7, 5, 5, 5, 5, 5, 5, 5, 7, 5, 7, 5,\n",
       "           5, 5, 5, 5, 5, 5, 0, 2, 2, 2, 2, 2, 2, 2, 2, 2, 2, 2, 2, 2, 2, 2, 2, 2,\n",
       "           3, 3, 2, 2, 2, 2, 2, 2, 3, 3, 3, 2, 2, 2, 2, 2, 2, 2, 2, 2, 2, 2, 2, 2,\n",
       "           2, 2, 2, 2, 2, 2, 2, 2, 2, 2, 2, 2, 2, 2, 2, 2, 2, 8, 8, 8, 8, 8, 8, 8,\n",
       "           8, 8, 8, 8, 8, 8, 8, 8, 8, 8, 8, 8, 8, 8, 8, 8, 8, 8, 8, 8, 8, 8, 8, 8,\n",
       "           8, 8, 8, 8, 8, 8, 8, 8, 8, 8, 8, 8, 8, 8])}}]"
      ]
     },
     "execution_count": 16,
     "metadata": {},
     "output_type": "execute_result"
    }
   ],
   "source": [
    "result"
   ]
  }
 ],
 "metadata": {
  "kernelspec": {
   "display_name": "Python 3",
   "language": "python",
   "name": "python3"
  },
  "language_info": {
   "codemirror_mode": {
    "name": "ipython",
    "version": 3
   },
   "file_extension": ".py",
   "mimetype": "text/x-python",
   "name": "python",
   "nbconvert_exporter": "python",
   "pygments_lexer": "ipython3",
   "version": "3.8.5"
  }
 },
 "nbformat": 4,
 "nbformat_minor": 5
}
